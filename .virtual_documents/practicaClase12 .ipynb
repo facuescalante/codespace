





get_ipython().getoutput("pip install pandas==2.2.2")


import pandas as pd
import numpy as np





# creamos un dataframe extrayendo los datos de las listas
lista_p1 = ["Juan Pablo", "Simone", 54, False]
lista_p2 = ["Yul","Mourad",46,True]
lista_p3 = ["Carlos","Alverca",75,False]
lista_p4 = ["Jorge","Rodriguez",38,False]
lista_p5 = ["Sebastian","First",48,False]
lista_p6 = ["Mabel","Guzman",26,False]
lista_p7 = ["Yanina","Delgado",29,False]
lista_p8 = ["Marina","Mery",49,False]

lista_nombre_columnas = ["Nombre","Apellido","Edad","Es metido?"]

df_alumnos = pd.DataFrame(
    data = [lista_p1,lista_p2,lista_p3,lista_p4,lista_p5,lista_p6,lista_p7,lista_p8],
    columns = lista_nombre_columnas
)
df_alumnos



# podemos crear un dataFrame extrayendo los datos de un diccionario

diccionario_empleados = {
    "Nombre" : ["Mara","Mirta","Jose","Juana"],
    "Departamento" : ["Sales","IT","IT","JR"],
    "Suledo_usd" : [1200,5000,7600,8000],
    "Facturacion" : [True,True,False,True]
}
diccionario_empleados


df_empleados = pd.DataFrame(diccionario_empleados)

df_empleados


rng = np.random.default_rng()



array_5x3 = rng.integers(1,20,(5,3)) #creacion array
print(array_5x3)


array_5x3.ndim


array_5x3.shape


#tambien podemos crear un dataframe a partir de un array






# Estamos integrando el indice a partir de una lista

# dataframe catalogo vehiculos disponibles en una concecionaria

lista_patente = ["GHY-548","ERG-105","TPE-485","POL-896"]

lista_v1 = ["Ford","Mustang",100000,True]
lista_v2 = ["Fiat","500",50000,False]
lista_v3 = ["Toyota","Yaris",75000,True]
lista_v4 = ["Toyota","Corolla",150000,True]

lista_encabezado_concecionaria = ["Marca", "Modelo", "Precio", "0Km"]

df_vehiculos = pd.DataFrame(
    data = [lista_v1,lista_v2,lista_v3,lista_v4],
    columns = lista_encabezado_concecionaria,
    index = lista_patente
)
df_vehiculos



# Podemos seleccionar el indice desde una columna de mi dataframe

#Tengo un diccionario con empleados
diccionario_empleados = {
  "ID":["F-001","C-001","F-002","F-003","F-004","C-002"],
  "Nombre":["Andres","Sofia","Mercedes","Pablo","Claudia","Miguel"],
  "Apellido":["Muñoz","Cerves","Garcia","Alaves","Perez","Solis"],
  "Sueldo":[4500,6000,2300,5300,4920,5000],
  "Departamento":["IT","Sales","IT","IT","HR","Sales"],
  "Facturacion":[True,True,False,True,True,False]
}

df_empleado2 = pd.DataFrame(diccionario_empleados)
df_empleado2



df_empleado2.set_index("ID", inplace=True)
df_empleado2


# El indice pueden ser fechas

dias = pd.date_range(start='2024-01-10', end='2024-04-19')

df_resumen_ventas = pd.DataFrame(
    data = {
        "nro_ventas":rng.integers(10,50,len(dias)),
        "ganancia":rng.random(len(dias)).round(2),
        "ingresos_en_miles_usd":rng.integers(100,2000,len(dias))
    },
    index=dias)
df_resumen_ventas





df_resumen_ventas.head(7)  #Head nos trae los primeros N elementos


df_resumen_ventas.tail()  #Tail trae los ultimos N elementos, el valor por defecto es 5


df_resumen_ventas.describe() #Uso describe


df_resumen_ventas.shape #Tenemos 101 filas por 3 columnas


df_resumen_ventas.nro_ventas #Aisla la columna -> Serie


df_resumen_ventas[df_resumen_ventas.ingresos_en_miles_usd > 1400] #Puedo filtrar mi dataframe aplicandole una regla a una columna (Series)


 #Podemos concatenar diferentes reglas

df_resumen_ventas[(df_resumen_ventas.nro_ventas > 40) & (df_resumen_ventas.ingresos_en_miles_usd > 1600)]


df_resumen_ventas.iloc[0] #Obtenemos el primer elemento


df_resumen_ventas.iloc[3] #Obtenemos el cuarto elemento


df_resumen_ventas.iloc[-1] #Ultimo elemento


df_resumen_ventas.iloc[4:10] #Filtrado desde la posicion 4 (incluida) hasta la 10(excluida)


df_resumen_ventas.iloc[:9] #El filtrado termina en 9 elemento


df_resumen_ventas.iloc[-15:] #El filtrado inicia desde el -15 adelante


df_resumen_ventas.sort_values(by="ganancia") #Ordenamos de menor a mayor nuestro dataframe en funcion de la ganancia


#Ordenamos de mayor a menor nuestro dataframe en funcion de ingresos_mil_usd

df_resumen_ventas.sort_values(by="ingresos_en_miles_usd",ascending= False) 





dict_concesionaria = {
    'marca': ['Ford','Toyota','Audi','Ford','Ford','Renault','Chevrolet','Ford','Ford','Volkswagen','Honda','BMW','Mercedes-Benz','Ford','Ford'],
    'modelo': ['Focus','Hilux','A3','Mustang','F-100','Cactus','Spark','Escape','Explorer','Gol','Civic','X5','Clase C','Ranger','Fusion'],
    'precio': [3000,10000,10000,20000,2000,3500,4000,18000,25000,6000,8000,15000,12000,22000,17000],
    '0Km': [True,True,True,True,False,True,False,True,False,True,True,True,False,True,False]
  }
dict_concesionaria


df_conce = pd.DataFrame(dict_concesionaria)
df_conce



#Podemos aplicar multiples condiciones que incluyan strings, booleanos e integers

df_conce[(df_conce.marca == "Ford") & (df_conce["precio"] > 10000) & (df_conce["0Km"] == True)]

 #Podemos aplicar la busqueda usando los corchetes y pasando el nombre de la columna





df_conce.head()


#Si queremos renombrar una columna debemos aplicar

nuevas_columns = {
    "marca":"MARCA",
    "modelo":"NOMBRE",
    "precio":"PRECIO_USD",
    "0Km":"UNICO_DUENO"
}

df_conce.rename(columns=nuevas_columns, inplace= True)


df_conce


#Si queremos renombrar una columna debemos aplicar

df_conce.rename(columns={"MARCA":"MODELO"}, inplace=True)

df_conce


#Podemos aplicar/renombrar nuestro indice generado por defecto

df_conce.index.rename(name="ID", inplace=True)

df_conce


df_resumen_ventas.head()


df_resumen_ventas.index.rename(name="dia", inplace=True)
df_resumen_ventas.rename(columns={"ganancia":"ganancia_%"}, inplace=True)
df_resumen_ventas





df_conce.rename(columns={"MODELO":"MARCA","NOMBRE":"MODELO"}, inplace=True)
df_conce  #Tenemos nuestro dataframe


df_conce.shape #tenemos 15 filas y 4 columnas


#Añado una nueva fila

new_vehiculo = pd.DataFrame(data=[
    ["Fiat","500",1200,False]
    ],
    columns=["MARCA","MODELO","PRECIO_USD","UNICO_DUENO"]
)
pd.concat([df_conce, new_vehiculo])


#Puedo "sobreescribir" para tener todos los vehiculos en este dataframe

df_conce = pd.concat([df_conce, new_vehiculo], ignore_index=True) #Ignoramos el indice para que nuevo_vehiculo tenga un indice que continue con los numeros previos

df_conce


df_conce.shape


#Podemos agregar varios filas a la vez

vehiculos_import = pd.DataFrame(data={
    'MARCA': ['Bugatti','Ferrari','Audi'],
    'MODELO': ['Chiron','Enzo','R8'],
    'PRECIO_USD': [3210000,3200000,250000],
    'UNICO_DUENO': [True,True,True]
})
df_conce = pd.concat([df_conce, vehiculos_import], ignore_index=True)

df_conce


df_conce.shape #Vemos como cambio la cantidad de filas y columnas


#Tenemos que tener mucha precaucion ya que si no coinciden las columnas los valores se van a agregar generando nuevas columnas

vehiculos_import = pd.DataFrame(data={
    'fabricante': ['Bugatti','Ferrari','Audi'],
    'modelo': ['Chiron','Enzo','R8'],
    'costo': [3210000,3200000,250000],
    '0km': [True,True,True]
})
df_conce = pd.concat([df_conce, vehiculos_import], ignore_index=True)

df_conce



df_conce.shape #Vemos que ahora se duplicaron la cantidad de columnas






df_empleados_cobro = pd.DataFrame({
    'ID': [101, 102, 103, 104],
    'Sueldo': [5000, 6000, 4500, 5500],
    'Facturacion': [True, True, False, True],
    'Antiguedad': [3, 5, 2, 8]
})

df_empleados_info = pd.DataFrame({
    'ID': [101, 102, 105, 106],
    'Edad': [31, 36, 29, 41],
    'Cargo': ['Analista', 'Gerente', 'Analista', 'Director'],
    'Nombre':["Pedro","Camila",'Mariano','Federico']
})



df_empleados_cobro


df_empleados_info


#Left merge

df_let_merge = pd.merge(df_empleados_cobro,df_empleados_info,how="left",on='ID')
df_let_merge


#Right merge (join sql)

df_right_merge = pd.merge(df_empleados_cobro,df_empleados_info,how="right",on='ID')

df_right_merge



df_empleados = pd.DataFrame({
    'ID': [101, 102, 103, 104],
    'Sueldo': [5000, 6000, 4500, 5500],
    'Edad': [30, 35, 28, 40],
    'Cargo': ['Analista', 'Gerente', 'Analista', 'Director'],
    'Facturacion': [True, True, False, True],
    'Antiguedad': [3, 5, 2, 8],
    'Departamento_ID':[1,2,4,3]
})
df_departamentos = pd.DataFrame({
    'Departamento_ID':[1,2,3],
    'Nombre':["Sales","IT","HR"],
    'Piso':[1,2,2],
    'Rotacion_24hs':[True,True,False]
})
   


df_empleados


df_departamentos


#Inner merge

df_inner_merge = pd.merge(df_empleados,df_departamentos,how="inner",on="Departamento_ID")

df_inner_merge


#Outer merge

df_outer_merge = pd.merge(df_empleados,df_departamentos,how="outer",on="Departamento_ID")

df_outer_merge






semana = pd.date_range(start='2024-04-08', end='2024-04-14')

df_resumen_ventas = pd.DataFrame(
    data = {
        "clientes":[10,np.nan,12,16,20,np.nan,14],
        "pedidos":[4,2,14,10,1,10,12],
        "ingresos":[np.nan,20000,4500,7000,np.nan,5900,12000]
    },
    index=semana)
df_resumen_ventas


#Vemos que valores son nulos
df_resumen_ventas.isnull ()


#Calculo de cuantas filas contienen nulos
df_resumen_ventas.isnull().sum()


#Deja solo las filas sin nulos
df_resumen_ventas.dropna()


#Deja solo las columnas sin nulos
df_resumen_ventas.dropna(axis=1)


# Rellenar los valores nulos con 0
df_resumen_ventas.fillna(0)


df_resumen_ventas.median()


#Reemplaza la media con la media de cada columna
df_resumen_ventas.fillna(df_resumen_ventas.median())


#Se puede interpolar, aunque solo es recomendable cuando matematicamente la operacion tiene sentido
df_resumen_ventas.interpolate()



