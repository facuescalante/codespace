





get_ipython().getoutput("pip install pandas==2.2.2")


import pandas as pd
import numpy as np





# creamos un dataframe extrayendo los datos de las listas
lista_p1 = ["Juan Pablo", "Simone", 54, False]
lista_p2 = ["Yul","Mourad",46,True]
lista_p3 = ["Carlos","Alverca",75,False]
lista_p4 = ["Jorge","Rodriguez",38,False]
lista_p5 = ["Sebastian","First",48,False]
lista_p6 = ["Mabel","Guzman",26,False]
lista_p7 = ["Yanina","Delgado",29,False]
lista_p8 = ["Marina","Mery",49,False]

lista_nombre_columnas = ["Nombre","Apellido","Edad","Es metido?"]

df_alumnos = pd.DataFrame(
    data = [lista_p1,lista_p2,lista_p3,lista_p4,lista_p5,lista_p6,lista_p7,lista_p8],
    columns = lista_nombre_columnas
)
df_alumnos



# podemos crear un dataFrame extrayendo los datos de un diccionario

diccionario_empleados = {
    "Nombre" : ["Mara","Mirta","Jose","Juana"],
    "Departamento" : ["Sales","IT","IT","JR"],
    "Suledo_usd" : [1200,5000,7600,8000],
    "Facturacion" : [True,True,False,True]
}
diccionario_empleados


df_empleados = pd.DataFrame(diccionario_empleados)

df_empleados


rng = np.random.default_rng()



array_5x3 = rng.integers(1,20,(5,3)) #creacion array
print(array_5x3)


array_5x3.ndim


array_5x3.shape


#tambien podemos crear un dataframe a partir de un array






# Estamos integrando el indice a partir de una lista

# dataframe catalogo vehiculos disponibles en una concecionaria

lista_patente = ["GHY-548","ERG-105","TPE-485","POL-896"]

lista_v1 = ["Ford","Mustang",100000,True]
lista_v2 = ["Fiat","500",50000,False]
lista_v3 = ["Toyota","Yaris",75000,True]
lista_v4 = ["Toyota","Corolla",150000,True]

lista_encabezado_concecionaria = ["Marca", "Modelo", "Precio", "0Km"]

df_vehiculos = pd.DataFrame(
    data = [lista_v1,lista_v2,lista_v3,lista_v4],
    columns = lista_encabezado_concecionaria,
    index = lista_patente
)
df_vehiculos



# Podemos seleccionar el indice desde una columna de mi dataframe

#Tengo un diccionario con empleados
diccionario_empleados = {
  "ID":["F-001","C-001","F-002","F-003","F-004","C-002"],
  "Nombre":["Andres","Sofia","Mercedes","Pablo","Claudia","Miguel"],
  "Apellido":["Muñoz","Cerves","Garcia","Alaves","Perez","Solis"],
  "Sueldo":[4500,6000,2300,5300,4920,5000],
  "Departamento":["IT","Sales","IT","IT","HR","Sales"],
  "Facturacion":[True,True,False,True,True,False]
}

df_empleado2 = pd.DataFrame(diccionario_empleados)
df_empleado2



df_empleado2.set_index("ID", inplace=True)
df_empleado2


# El indice pueden ser fechas

dias = pd.date_range(start='2024-01-10', end='2024-04-19')

df_resumen_ventas = pd.DataFrame(
    data = {
        "nro_ventas":rng.integers(10,50,len(dias)),
        "ganancia":rng.random(len(dias)).round(2),
        "ingresos_en_miles_usd":rng.integers(100,2000,len(dias))
    },
    index=dias)
df_resumen_ventas








dict_concesionaria = {
    'marca': ['Ford','Toyota','Audi','Ford','Ford','Renault','Chevrolet','Ford','Ford','Volkswagen','Honda','BMW','Mercedes-Benz','Ford','Ford'],
    'modelo': ['Focus','Hilux','A3','Mustang','F-100','Cactus','Spark','Escape','Explorer','Gol','Civic','X5','Clase C','Ranger','Fusion'],
    'precio': [3000,10000,10000,20000,2000,3500,4000,18000,25000,6000,8000,15000,12000,22000,17000],
    '0Km': [True,True,True,True,False,True,False,True,False,True,True,True,False,True,False]
  }
dict_concesionaria


df_conce = pd.DataFrame(dict_concesionaria)
df_conce





df_conce.head()





df_conce.shape #tenemos 15 filas y 4 columnas



